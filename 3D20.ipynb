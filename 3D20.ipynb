{
 "cells": [
  {
   "cell_type": "markdown",
   "metadata": {},
   "source": [
    "# Create the core functionalities of the drinking game\n",
    "\n",
    "## Game rules:\n",
    "\n",
    "    - You get a randomized bar tender that mixes drinks from three lists of ingedients\n",
    "    - Ingredients within each list get selected with equal probability\n",
    "    - You have the choice of giving a random lucky number to determine the cocktail at the end"
   ]
  },
  {
   "cell_type": "code",
   "execution_count": 3,
   "metadata": {},
   "outputs": [],
   "source": [
    "import numpy.random as npr"
   ]
  },
  {
   "cell_type": "code",
   "execution_count": 285,
   "metadata": {},
   "outputs": [],
   "source": [
    "liquor = [\"double\", \"Rum\", \"Whiskey\", \"Wine\", \"Vodka\", \"your choice\"]\n",
    "mixers = [\"Coke\", \"Club soda\", \"nothing to dilute it\", \"milk\", \"heavy cream\", \"Pineapple juice\"]\n",
    "seasoning = [\"a dollop of honey\", \"salted rim\", \"a splash of lime juice\", \"some hot sauce\", \n",
    "             \"a dash of Venilla\", \"whatever evil the person to your right decides\"]"
   ]
  },
  {
   "cell_type": "code",
   "execution_count": 286,
   "metadata": {},
   "outputs": [
    {
     "name": "stdout",
     "output_type": "stream",
     "text": [
      "your choice\n",
      "Whiskey\n",
      "your choice\n",
      "Vodka\n",
      "Vodka\n",
      "Vodka\n",
      "Whiskey\n",
      "your choice\n",
      "Vodka\n",
      "Whiskey\n"
     ]
    }
   ],
   "source": [
    "# test the use of random seed\n",
    "# The new best practice avoids setting a global random seed\n",
    "for i in range(10):\n",
    "    rng = npr.default_rng(i)\n",
    "    print(rng.choice(liquor))"
   ]
  },
  {
   "cell_type": "code",
   "execution_count": 287,
   "metadata": {},
   "outputs": [
    {
     "data": {
      "text/plain": [
       "['double',\n",
       " 'Rum',\n",
       " 'Wine',\n",
       " 'Wine',\n",
       " 'double',\n",
       " 'double',\n",
       " 'double',\n",
       " 'double',\n",
       " 'Wine',\n",
       " 'Vodka']"
      ]
     },
     "execution_count": 287,
     "metadata": {},
     "output_type": "execute_result"
    }
   ],
   "source": [
    "# test random choice without setting a random seed\n",
    "[npr.choice(liquor) for i in range(10)]"
   ]
  },
  {
   "cell_type": "code",
   "execution_count": 289,
   "metadata": {},
   "outputs": [],
   "source": [
    "def make_drink(list1, list2, list3, lucky_number = None):\n",
    "    if lucky_number is None:\n",
    "        out = [npr.choice(i) for i in [list1, list2, list3]]\n",
    "    else:\n",
    "        rng = npr.default_rng(lucky_number)\n",
    "        out = [rng.choice(i) for i in [list1, list2, list3]]\n",
    "    # process list1 choice:\n",
    "    if out[0] == \"double\":\n",
    "        new_list = list1.copy()\n",
    "        new_list.remove(\"double\")\n",
    "        new_item = npr.choice(new_list)\n",
    "        out[0] = f\"a double shot of {new_item}\"\n",
    "    else:\n",
    "        out[0] = \"a shot of \" + out[0] \n",
    "    # process list2 choice:\n",
    "    if out[1] != \"nothing to dilute it\":\n",
    "        out[1] = \"some \" + out[1]\n",
    "    return out\n",
    "\n",
    "def bar_tend(*args, **kwargs):\n",
    "    drink = make_drink(*args, **kwargs)\n",
    "    message = f\"You are mixing {drink[0]} with {drink[1]}, with {drink[2]}\"\n",
    "    return message"
   ]
  },
  {
   "cell_type": "code",
   "execution_count": 296,
   "metadata": {},
   "outputs": [
    {
     "data": {
      "text/plain": [
       "'You are mixing a shot of Whiskey with nothing to dilute it, with a dash of Venilla'"
      ]
     },
     "execution_count": 296,
     "metadata": {},
     "output_type": "execute_result"
    }
   ],
   "source": [
    "bar_tend(liquor, mixers, seasoning)"
   ]
  },
  {
   "cell_type": "code",
   "execution_count": 298,
   "metadata": {},
   "outputs": [
    {
     "data": {
      "text/plain": [
       "'You are mixing a shot of Vodka with some Pineapple juice, with a dollop of honey'"
      ]
     },
     "execution_count": 298,
     "metadata": {},
     "output_type": "execute_result"
    }
   ],
   "source": [
    "bar_tend(liquor, mixers, seasoning, lucky_number = 17)"
   ]
  }
 ],
 "metadata": {
  "kernelspec": {
   "display_name": "Python 3",
   "language": "python",
   "name": "python3"
  },
  "language_info": {
   "codemirror_mode": {
    "name": "ipython",
    "version": 3
   },
   "file_extension": ".py",
   "mimetype": "text/x-python",
   "name": "python",
   "nbconvert_exporter": "python",
   "pygments_lexer": "ipython3",
   "version": "3.8.5"
  }
 },
 "nbformat": 4,
 "nbformat_minor": 4
}
